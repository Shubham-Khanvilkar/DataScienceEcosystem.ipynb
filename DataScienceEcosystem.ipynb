{
  "metadata": {
    "kernelspec": {
      "name": "python",
      "display_name": "Python (Pyodide)",
      "language": "python"
    },
    "language_info": {
      "codemirror_mode": {
        "name": "python",
        "version": 3
      },
      "file_extension": ".py",
      "mimetype": "text/x-python",
      "name": "python",
      "nbconvert_exporter": "python",
      "pygments_lexer": "ipython3",
      "version": "3.8"
    }
  },
  "nbformat_minor": 4,
  "nbformat": 4,
  "cells": [
    {
      "cell_type": "markdown",
      "source": "# Data Science Tools and Ecosystem",
      "metadata": {}
    },
    {
      "cell_type": "markdown",
      "source": "In this notebook, Data Science Tools and Ecosystem are summarized.\r\n",
      "metadata": {}
    },
    {
      "cell_type": "markdown",
      "source": "Some of the popular languages that Data Scientists use are:\r\n\r\n1.SQL\r\n\r\n2.Python\r\n\r\n3.Julia",
      "metadata": {}
    },
    {
      "cell_type": "markdown",
      "source": "Commonly Used Libraries by Data Scientists\r\n\r\nSome of the commonly used libraries by Data Scientists include:\r\n\r\n1. **NumPy**: Fundamental package for numerical computing with powerful N-dimensional array objects and useful linear algebra functions.\r\n\r\n2. **Pandas**: Provides data structures and data analysis tools, particularly for manipulating and analyzing structured data.\r\n\r\n3. **Matplotlib**: Comprehensive library for creating static, interactive, and animated visualizations in Python.\r\n\r\n4. **ggplot2**: Data visualization package based on the Grammar of Graphics, providing a powerful and flexible system for creating elegant and complex plots.\r\n\r\n5. **Seaborn**: Statistical data visualization library based on Matplotlib, providing a high-level interface for drawing attractive and informative statistical graphics.eaborn",
      "metadata": {}
    },
    {
      "cell_type": "markdown",
      "source": "Data Science Tools\r\n\r\n| Data Science Tools |\r\n|---------------------|\r\n| Jupyter Notebook    |\r\n| RStudio             |\r\n| VS Code             |",
      "metadata": {}
    },
    {
      "cell_type": "markdown",
      "source": "### Below are a few examples of evaluating arithmetic expressions in Python.lt_exponentiation)\n",
      "metadata": {}
    },
    {
      "cell_type": "code",
      "source": "# Addition\nresult_addition = 14 + 5\nprint(\"Addition:\", result_addition)\n\n# Subtraction\nresult_subtraction = 27 - 8\nprint(\"Subtraction:\", result_subtraction)\n\n# Multiplication\nresult_multiplication = 22 * 4\nprint(\"Multiplication:\", result_multiplication)\n\n# Division\nresult_division = 1000 / 100\nprint(\"Division:\", result_division)\n\n# Exponentiation\nresult_exponentiation = 66 ** 3\nprint(\"Exponentiation:\", result_exponentiation)",
      "metadata": {
        "trusted": true
      },
      "outputs": [
        {
          "name": "stdout",
          "text": "Addition: 19\nSubtraction: 19\nMultiplication: 88\nDivision: 10.0\nExponentiation: 287496\n",
          "output_type": "stream"
        }
      ],
      "execution_count": 3
    },
    {
      "cell_type": "code",
      "source": "#Create a code cell to multiply and add numbers\nresult = (3 * 4) + 5\nprint (result)",
      "metadata": {
        "trusted": true
      },
      "outputs": [
        {
          "name": "stdout",
          "text": "17\n",
          "output_type": "stream"
        }
      ],
      "execution_count": 7
    },
    {
      "cell_type": "code",
      "source": "#convert minutes into hours \nhours= 200 / 60\nprint (hours)",
      "metadata": {
        "trusted": true
      },
      "outputs": [
        {
          "name": "stdout",
          "text": "3.3333333333333335\n",
          "output_type": "stream"
        }
      ],
      "execution_count": 9
    },
    {
      "cell_type": "markdown",
      "source": "**Objectives:**\r\n\r\n- List popular languages for Data Science.\r\n- Introduce common libraries used in Data Science.\r\n- Provide examples of arithmetic expressions in Python.",
      "metadata": {}
    },
    {
      "cell_type": "markdown",
      "source": "## Shubham Anand Khanvilkar",
      "metadata": {}
    },
    {
      "cell_type": "code",
      "source": "",
      "metadata": {
        "trusted": true
      },
      "outputs": [],
      "execution_count": null
    }
  ]
}